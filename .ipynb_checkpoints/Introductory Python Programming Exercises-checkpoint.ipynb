{
 "cells": [
  {
   "cell_type": "markdown",
   "metadata": {},
   "source": [
    "# DICE ROLL"
   ]
  },
  {
   "cell_type": "code",
   "execution_count": 1,
   "metadata": {},
   "outputs": [
    {
     "name": "stdout",
     "output_type": "stream",
     "text": [
      "You rolled 5\n",
      "Do you want to roll again? Y/N\n",
      "N\n"
     ]
    }
   ],
   "source": [
    "import random\n",
    "repeat = True\n",
    "while repeat:\n",
    "    print(\"You rolled\",random.randint(1,6))\n",
    "    print(\"Do you want to roll again? Y/N\")\n",
    "    repeat = \"Y\" in input()"
   ]
  },
  {
   "cell_type": "markdown",
   "metadata": {},
   "source": [
    "# WEATHER"
   ]
  },
  {
   "cell_type": "code",
   "execution_count": 5,
   "metadata": {},
   "outputs": [
    {
     "name": "stdout",
     "output_type": "stream",
     "text": [
      "What is the current temperature?-15\n",
      "Looks like you should stay in, but if you must, be sure to wrap up fully\n"
     ]
    }
   ],
   "source": [
    "weather = float(input(\"What is the current temperature?\"))\n",
    "if weather > 17:\n",
    "    print(\"You should probably wear something a little light.\")\n",
    "    print(\"but knowing British weather, you should probably take a coat with you, just incase!\")\n",
    "elif weather < 10 and weather > 0:\n",
    "    print(\"Dress in layers, coat, scarf, gloves etc.\")\n",
    "elif weather < 0:\n",
    "    print(\"Looks like you should stay in, but if you must, be sure to wrap up fully\")\n",
    "elif weather > -10:\n",
    "    print(\"I have no idea what you're going to wear!\")"
   ]
  },
  {
   "cell_type": "markdown",
   "metadata": {},
   "source": [
    "# SW DEVELOPMENT: MINI-MINI PROJECT"
   ]
  },
  {
   "cell_type": "markdown",
   "metadata": {},
   "source": [
    "PLAN:\n",
    "\n",
    "Requirements:\n",
    "User input the number of A levels they did\n",
    "Program output the highest degree they can receive from going to uni(diploma, bachelors, masters, etc)\n",
    "User input what A levels they did\n",
    "Program output what degrees they can do depending on the tier of grading they achieved in each A level\n",
    "\n",
    "DESIGN:\n",
    "\n",
    "\n",
    "\n",
    "DEVELOPMENT & UNIT TESTING:\n",
    "\n",
    "\n",
    "TESTING:\n",
    "\n",
    "\n",
    "EVALUATION:"
   ]
  },
  {
   "cell_type": "code",
   "execution_count": null,
   "metadata": {
    "collapsed": true
   },
   "outputs": [],
   "source": [
    "no. of Alevel = int(input(\"How many Alevel did you achieve?\"))\n",
    "if no. of Alevel > 3:\n",
    "    print(\"You are eligible for any course up to: \")\n",
    "if no. of Alevel < 2:\n",
    "    print(\"You are eligible to do a HNC or HND, higher national qualification/diploma\")"
   ]
  },
  {
   "cell_type": "code",
   "execution_count": null,
   "metadata": {
    "collapsed": true
   },
   "outputs": [],
   "source": [
    "age = int(input(\"what is your age?\"))\n",
    "if age > 17:\n",
    "    print(\"You may enter the theatre\")\n",
    "adult = True(input(\"Are you accompanied by an adult? Y/N\"))"
   ]
  }
 ],
 "metadata": {
  "kernelspec": {
   "display_name": "Python 3",
   "language": "python",
   "name": "python3"
  },
  "language_info": {
   "codemirror_mode": {
    "name": "ipython",
    "version": 3
   },
   "file_extension": ".py",
   "mimetype": "text/x-python",
   "name": "python",
   "nbconvert_exporter": "python",
   "pygments_lexer": "ipython3",
   "version": "3.5.2"
  }
 },
 "nbformat": 4,
 "nbformat_minor": 2
}
